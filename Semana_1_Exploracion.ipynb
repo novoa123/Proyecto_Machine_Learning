{
  "cells": [
    {
      "cell_type": "markdown",
      "metadata": {
        "id": "view-in-github",
        "colab_type": "text"
      },
      "source": [
        "<a href=\"https://colab.research.google.com/github/novoa123/Proyecto_Machine_Learning/blob/main/Semana_1_Exploracion.ipynb\" target=\"_parent\"><img src=\"https://colab.research.google.com/assets/colab-badge.svg\" alt=\"Open In Colab\"/></a>"
      ]
    },
    {
      "cell_type": "markdown",
      "id": "8144e0ac",
      "metadata": {
        "id": "8144e0ac"
      },
      "source": [
        "# Semana 1: Exploración del problema y del dataset"
      ]
    },
    {
      "cell_type": "markdown",
      "id": "cc5a22b1",
      "metadata": {
        "id": "cc5a22b1"
      },
      "source": [
        "## 1. Cargar y visualizar señales ECG"
      ]
    },
    {
      "cell_type": "markdown",
      "id": "a4c761e0",
      "metadata": {
        "id": "a4c761e0"
      },
      "source": [
        "### Recomendación: usar matplotlib, wfdb, scipy.io"
      ]
    },
    {
      "cell_type": "markdown",
      "id": "355d7de6",
      "metadata": {
        "id": "355d7de6"
      },
      "source": [
        "## 2. Resumen del artículo base (Clifford et al., 2017)"
      ]
    },
    {
      "cell_type": "markdown",
      "id": "73f335a7",
      "metadata": {
        "id": "73f335a7"
      },
      "source": [
        "## 3. Análisis del dataset (cantidad de señales, duración, etiquetas, etc.)"
      ]
    }
  ],
  "metadata": {
    "colab": {
      "provenance": [],
      "include_colab_link": true
    },
    "language_info": {
      "name": "python"
    },
    "kernelspec": {
      "name": "python3",
      "display_name": "Python 3"
    }
  },
  "nbformat": 4,
  "nbformat_minor": 5
}